{
  "nbformat": 4,
  "nbformat_minor": 0,
  "metadata": {
    "colab": {
      "provenance": []
    },
    "kernelspec": {
      "name": "python3",
      "display_name": "Python 3"
    },
    "language_info": {
      "name": "python"
    }
  },
  "cells": [
    {
      "cell_type": "code",
      "execution_count": null,
      "metadata": {
        "colab": {
          "base_uri": "https://localhost:8080/"
        },
        "id": "yu-Q58jHZB_D",
        "outputId": "895a1353-ff89-4225-fd86-957a75e57c73"
      },
      "outputs": [
        {
          "output_type": "stream",
          "name": "stdout",
          "text": [
            "99% Confidence Interval (using sample standard deviation): (1.0952316686261228, 1.3821016647072104)\n",
            "99% Confidence Interval (using known population standard deviation): (1.1056514133957607, 1.3716819199375725)\n"
          ]
        }
      ],
      "source": [
        "import numpy as np\n",
        "import scipy.stats as stats\n",
        "\n",
        "# Data\n",
        "data = [1.13, 1.55, 1.43, 0.92, 1.25, 1.36, 1.32, 0.85, 1.07, 1.48, 1.20, 1.33, 1.18, 1.22, 1.29]\n",
        "\n",
        "\n",
        "sample_mean = np.mean(data)\n",
        "sample_std = np.std(data)\n",
        "\n",
        "t_stat = stats.t.ppf(0.995, 14)\n",
        "\n",
        "margin_of_error = t_stat * sample_std / np.sqrt(len(data))\n",
        "\n",
        "lower_bound = sample_mean - margin_of_error\n",
        "upper_bound = sample_mean + margin_of_error\n",
        "\n",
        "print(\"99% Confidence Interval (using sample standard deviation):\", (lower_bound, upper_bound))\n",
        "\n",
        "z_stat = stats.norm.ppf(0.995)\n",
        "\n",
        "margin_of_error = z_stat * 0.2 / np.sqrt(len(data))\n",
        "\n",
        "lower_bound = sample_mean - margin_of_error\n",
        "upper_bound = sample_mean + margin_of_error\n",
        "\n",
        "print(\"99% Confidence Interval (using known population standard deviation):\", (lower_bound, upper_bound))"
      ]
    }
  ]
}